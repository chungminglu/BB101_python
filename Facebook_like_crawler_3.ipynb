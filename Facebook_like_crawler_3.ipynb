{
 "cells": [
  {
   "cell_type": "code",
   "execution_count": 103,
   "metadata": {},
   "outputs": [
    {
     "name": "stdout",
     "output_type": "stream",
     "text": [
      "phonecheck_code:398459\n"
     ]
    }
   ],
   "source": [
    "from splinter import Browser #sign in function\n",
    "import splinter\n",
    "from selenium.common.exceptions import WebDriverException\n",
    "\n",
    "browser = Browser('chrome')\n",
    "url = \"https://zh-tw.facebook.com/login/\"\n",
    "browser.visit(url)\n",
    "username =input('username:')\n",
    "password =input('password:')\n",
    "search_input = browser.find_by_xpath('//*[@id=\"email\"]')[0]\n",
    "search_input.fill(username)\n",
    "search_input = browser.find_by_xpath('//*[@id=\"pass\"]')[0]\n",
    "search_input.fill(password)\n",
    "browser.find_by_xpath('//*[@id=\"loginbutton\"]').first.click()\n",
    "\n",
    "try:\n",
    "    search_input = browser.find_by_xpath('//*[@id=\"approvals_code\"]')[0]\n",
    "    phonecheck = input('phonecheck_code:')\n",
    "    search_input.fill(phonecheck)\n",
    "    browser.find_by_xpath('//*[@id=\"checkpointSubmitButton\"]').first.click()\n",
    "    browser.find_by_xpath('//*[@id=\"u_0_0\"]/div/div[2]/ul/li[2]/div/label/strong').first.click()\n",
    "    browser.find_by_xpath('//*[@id=\"checkpointSubmitButton\"]').first.click()\n",
    "except splinter.exceptions.ElementDoesNotExist:\n",
    "    pass"
   ]
  },
  {
   "cell_type": "code",
   "execution_count": 70,
   "metadata": {
    "collapsed": true
   },
   "outputs": [],
   "source": [
    "def get_friends_list(url_input):#連線到某個人讀取他的朋友清單\n",
    "    import time \n",
    "    from bs4 import BeautifulSoup\n",
    "    import re\n",
    "    import requests\n",
    "    success = 0 #checking connection is succeeded or not\n",
    "    count = 0 #define how many times we have tried to connect\n",
    "    times_of_trying = 3 #the limited number we want to try\n",
    "    friends_list = []\n",
    "    while (success == 0 and count<times_of_trying) : #if not success to connect try few times\n",
    "        try:\n",
    "            browser.visit(url_input)\n",
    "            if browser.find_by_text('Edit Profile') != []:\n",
    "                browser.find_by_text('Friends')[0].click()\n",
    "            else:\n",
    "                browser.find_by_text('Friends')[1].click()\n",
    "                \n",
    "            soup_for_while = BeautifulSoup(browser.html, 'lxml') \n",
    "            select_condition = soup_for_while.select('#timeline-medley > div > div.mbm._5vf.sectionHeader._4khu > div.uiHeader > div > div > h3')\n",
    "            \n",
    "            count_for_while = 0\n",
    "            while select_condition == [] and count_for_while<200:\n",
    "                browser.execute_script('window.scrollTo(0, document.body.scrollHeight)')\n",
    "                soup_for_while = BeautifulSoup(browser.html, 'lxml') \n",
    "                select_condition = soup_for_while.select('#timeline-medley > div > div.mbm._5vf.sectionHeader._4khu > div.uiHeader > div > div > h3')\n",
    "                time.sleep(0.2)\n",
    "                count_for_while += 1\n",
    "\n",
    "                \n",
    "            success = 1 #if succeeded define success connection\n",
    "            \n",
    "            soup = BeautifulSoup(browser.html, 'lxml') \n",
    "            section_friends = soup.select('#collection_wrapper_2356318349')[0].select('div')[0].select('ul')\n",
    "            \n",
    "#             if count>5 :\n",
    "            for friends in section_friends: #find the friends list and save it to friend_list\n",
    "                for friend in friends.select('li'):\n",
    "                    if len(friend.select('div > div > div > div > div > div > a')) != 0:\n",
    "                        if friend.select('div > div > div > div > div > div > a')[0].text == 'FriendFriends':\n",
    "                            friends_list.append(friend.select('div > div > div > div > div > div > a')[1]['href'].replace('?fref=pb&hc_location=friends_tab',''))\n",
    "#                             print(friend.select('div > div > div > div > div > div > a')[1].text)\n",
    "#                             print(friend.select('div > div > div > div > div > div > a')[1]['href'].replace('?fref=pb&hc_location=friends_tab',''))\n",
    "\n",
    "                        else:\n",
    "                            friends_list.append(friend.select('div > div > div > div > div > div > a')[0]['href'].replace('?fref=pb&hc_location=friends_tab',''))\n",
    "#                             print(friend.select('div > div > div > div > div > div > a')[0].text)\n",
    "#                             print(friend.select('div > div > div > div > div > div > a')[0]['href'].replace('?fref=pb&hc_location=friends_tab',''))\n",
    "        except splinter.exceptions.ElementDoesNotExist:\n",
    "            count += 1\n",
    "            time.sleep(0.5)\n",
    "\n",
    "        except requests.ConnectionError:\n",
    "            success = 1  \n",
    "\n",
    "        except (AttributeError,IndexError): #if user does not permit us to see his firends try few times\n",
    "            count += 1\n",
    "            time.sleep(0.5)\n",
    "            if count==times_of_trying:\n",
    "                pass\n",
    "        \n",
    "    return friends_list"
   ]
  },
  {
   "cell_type": "code",
   "execution_count": 71,
   "metadata": {},
   "outputs": [],
   "source": [
    "import os\n",
    "data = \"data\"\n",
    "if not os.path.exists(data):\n",
    "    os.makedirs(data)\n",
    "\n",
    "friendList = []\n",
    "\n",
    "def read_frends_csv():\n",
    "    global friendList\n",
    "    with open(\"./data/friends.csv\",\"r\") as file:\n",
    "        friendList = file.read().split()\n",
    "        \n",
    "def to_frends_csv():\n",
    "    with open(\"./data/friends.csv\",\"w\") as file:\n",
    "        for f in friendList:\n",
    "            file.write(f+\"\\n\")\n",
    "\n",
    "try:        \n",
    "    read_frends_csv()\n",
    "    start_number = len(friendList) -1\n",
    "except (FileNotFoundError,IndexError):\n",
    "    friendList.append(\"https://www.facebook.com/v78203\")\n",
    "    start_number = len(friendList) -1\n",
    "\n",
    "try:\n",
    "    while True:\n",
    "        each = friendList[start_number]\n",
    "        for element in get_friends_list(each):\n",
    "            if element not in friendList:\n",
    "                friendList.append(element)\n",
    "            if len(friendList)%10000 == 0:\n",
    "                with open(\"./data/friends_copy.csv\",\"w\") as file:\n",
    "                    for f in friendList:\n",
    "                        file.write(f+\"\\n\")\n",
    "        start_number += 1\n",
    "\n",
    "except (WebDriverException,KeyboardInterrupt) as e:\n",
    "    to_frends_csv()"
   ]
  },
  {
   "cell_type": "code",
   "execution_count": 3,
   "metadata": {
    "collapsed": true
   },
   "outputs": [],
   "source": [
    "def get_likes_list(url_input):#連線到某個人抓他按讚的粉絲頁\n",
    "    import time \n",
    "    from bs4 import BeautifulSoup\n",
    "    import re\n",
    "    import requests\n",
    "\n",
    "    success = 0  #checking connection is succeeded or not\n",
    "    count = 0  #define how many times we have tried to connect\n",
    "    likes_list = []\n",
    "    \n",
    "    while (success == 0 and count<4) :\n",
    "        try:\n",
    "            browser.visit(url_input) #go user's page and find his likes\n",
    "            browser.find_by_text('More').first.click()\n",
    "            browser.find_by_text('Likes').first.click()\n",
    "            \n",
    "            soup_for_while = BeautifulSoup(browser.html, 'lxml') \n",
    "            select_condition = soup_for_while.select('#timeline-medley > div > div.mbm._5vf.sectionHeader._4khu > div.uiHeader > div > div > h3')\n",
    "            \n",
    "            count_for_while = 0\n",
    "            while select_condition == [] and count_for_while<100:\n",
    "                browser.execute_script('window.scrollTo(0, document.body.scrollHeight)')\n",
    "                soup_for_while = BeautifulSoup(browser.html, 'lxml') \n",
    "                select_condition = soup_for_while.select('#timeline-medley > div > div.mbm._5vf.sectionHeader._4khu > div.uiHeader > div > div > h3')\n",
    "                time.sleep(0.2)\n",
    "                count_for_while += 1\n",
    "                \n",
    "            success = 1\n",
    "            \n",
    "            soup = BeautifulSoup(browser.html, 'lxml') #find the likes list and save it to likes_list\n",
    "            \n",
    "            \n",
    "            for link in soup.select('#collection_wrapper_2409997254 > div')[0].select('ul > li > div > div > div > div'):\n",
    "                each_like = {}\n",
    "                each_like['like_name'] = link.select('div > div > a')[0].text\n",
    "                each_like['like_url'] = link.select('div > div > a')[0]['href']\n",
    "                each_like['like_category'] = link.select('div > div')[1].text\n",
    "                likes_list.append(each_like)\n",
    "            \n",
    "        except splinter.exceptions.ElementDoesNotExist:\n",
    "#             print(url_input,'\\n','user do not permit likes reading','\\n','or wrong url')\n",
    "            success = 1\n",
    "        except Exception as ee:\n",
    "#             print(ee)\n",
    "            count += 1\n",
    "            \n",
    "    return likes_list"
   ]
  },
  {
   "cell_type": "code",
   "execution_count": null,
   "metadata": {},
   "outputs": [
    {
     "name": "stdout",
     "output_type": "stream",
     "text": [
      "now is on number 5 crawling"
     ]
    }
   ],
   "source": [
    "import json\n",
    "import os\n",
    "import sys\n",
    "\n",
    "data = \"data\" #make the data direction if not exist\n",
    "if not os.path.exists(data):\n",
    "    os.makedirs(data)\n",
    "\n",
    "likesList = []\n",
    "likesList_copy = []\n",
    "\n",
    "def read_friends_csv(countLikesCrawling): #read the friends from the file \n",
    "    i = 0\n",
    "    with open(\"./data/friend_part_2.csv\",\"r\") as file:\n",
    "        friendList = []\n",
    "        for line in file:\n",
    "            if i in range(countLikesCrawling,countLikesCrawling+100):\n",
    "                friendList.append(line)\n",
    "            elif i>countLikesCrawling+100:\n",
    "                break\n",
    "            i += 1\n",
    "    return friendList\n",
    "        \n",
    "def read_progress_csv():\n",
    "    with open(\"./data/progress.csv\",\"r\") as file:\n",
    "        count = int(file.read())\n",
    "    return count\n",
    "        \n",
    "def to_likes_csv(likesList):\n",
    "    with open(\"./data/likes.csv\",\"a\") as file:\n",
    "        for f in likesList:\n",
    "            file.write(f+\"\\n\")\n",
    "\n",
    "def to_copy_likes_csv(likesList):\n",
    "    with open(\"./data/likes_copy.csv\",\"a\") as file:\n",
    "        for f in likesList:\n",
    "            file.write(f+\"\\n\")   \n",
    "\n",
    "def save_progress(countLikesCrawling):\n",
    "    with open(\"./data/progress.csv\",\"w\") as file:\n",
    "        file.write(str(countLikesCrawling))\n",
    "\n",
    "\n",
    "        \n",
    "try:\n",
    "    countLikesCrawling = read_progress_csv() #read progress, if from the first time set it as 0\n",
    "except (FileNotFoundError,IndexError):\n",
    "    countLikesCrawling = 0\n",
    "                \n",
    "try:        \n",
    "    friendList = read_friends_csv(countLikesCrawling) #from progress read 100 friendslist\n",
    "except (FileNotFoundError,IndexError):\n",
    "    print('please check the friends list file')\n",
    "    \n",
    "try:    \n",
    "    while True:\n",
    "        for link in friendList:\n",
    "            data = {'user_url':link , 'user_likes':get_likes_list(link)}\n",
    "            jdata = json.dumps(data,ensure_ascii=False)\n",
    "            likesList.append(jdata)\n",
    "            likesList_copy.append(jdata)\n",
    "            countLikesCrawling += 1\n",
    "            printstring = ('now is on number '+ str(countLikesCrawling) + ' crawling')\n",
    "            sys.stdout.write('\\r' + printstring)\n",
    "            if countLikesCrawling%50 == 0:\n",
    "                to_copy_likes_csv(likesList_copy)\n",
    "                save_progress(countLikesCrawling)\n",
    "                likesList_copy = []\n",
    "        friendList = read_friends_csv(countLikesCrawling)\n",
    "            \n",
    "except (WebDriverException,KeyboardInterrupt) as e:\n",
    "    to_likes_csv(likesList)\n",
    "    save_progress(countLikesCrawling)\n",
    "        "
   ]
  },
  {
   "cell_type": "code",
   "execution_count": 102,
   "metadata": {},
   "outputs": [],
   "source": [
    "def read_friends_csv(countLikesCrawling): #read the friends from the file \n",
    "    i = 0\n",
    "    with open(\"./data/friends.csv\",\"r\") as file:\n",
    "        friendList = []\n",
    "        for line in file:\n",
    "            if i in range(0,1002):\n",
    "                friendList.append(line)\n",
    "            elif i>1002:\n",
    "                break\n",
    "            i += 1\n",
    "    return friendList\n",
    "friendList = read_friends_csv(countLikesCrawling)\n",
    "len(friendList)\n",
    "with open(\"./data/friends_already_done.csv\",\"w\") as file:\n",
    "    for f in friendList:\n",
    "        file.write(f+\"\\n\")"
   ]
  },
  {
   "cell_type": "code",
   "execution_count": 73,
   "metadata": {},
   "outputs": [
    {
     "data": {
      "text/plain": [
       "10000"
      ]
     },
     "execution_count": 73,
     "metadata": {},
     "output_type": "execute_result"
    }
   ],
   "source": [
    "with open(\"./data/friends.csv\",\"r\") as file:\n",
    "    data = []\n",
    "    for line in file:\n",
    "        data.append(line)\n",
    "len(data)\n"
   ]
  },
  {
   "cell_type": "code",
   "execution_count": 98,
   "metadata": {},
   "outputs": [
    {
     "data": {
      "text/plain": [
       "1001"
      ]
     },
     "execution_count": 98,
     "metadata": {},
     "output_type": "execute_result"
    }
   ],
   "source": [
    "with open(\"./data/likes.csv\",\"r\") as file:\n",
    "    data = []\n",
    "    for line in file:\n",
    "        jsondata = json.loads(line)\n",
    "        data.append(jsondata)\n",
    "len(data)"
   ]
  },
  {
   "cell_type": "code",
   "execution_count": 99,
   "metadata": {},
   "outputs": [
    {
     "name": "stdout",
     "output_type": "stream",
     "text": [
      "1001\n"
     ]
    }
   ],
   "source": [
    "with open(\"./data/progress.csv\",\"r\") as file:\n",
    "    print(file.readline())\n"
   ]
  }
 ],
 "metadata": {
  "kernelspec": {
   "display_name": "Python 3",
   "language": "python",
   "name": "python3"
  },
  "language_info": {
   "codemirror_mode": {
    "name": "ipython",
    "version": 3
   },
   "file_extension": ".py",
   "mimetype": "text/x-python",
   "name": "python",
   "nbconvert_exporter": "python",
   "pygments_lexer": "ipython3",
   "version": "3.6.1"
  }
 },
 "nbformat": 4,
 "nbformat_minor": 2
}
