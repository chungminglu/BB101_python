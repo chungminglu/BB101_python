{
 "cells": [
  {
   "cell_type": "code",
   "execution_count": 1,
   "metadata": {},
   "outputs": [
    {
     "name": "stdout",
     "output_type": "stream",
     "text": [
      "phonecheck_code:582633\n"
     ]
    }
   ],
   "source": [
    "from splinter import Browser #sign in function\n",
    "import splinter\n",
    "\n",
    "browser = Browser('chrome')\n",
    "url = \"https://zh-tw.facebook.com/login/\"\n",
    "browser.visit(url)\n",
    "username =input('username:')\n",
    "password =input('password:')\n",
    "search_input = browser.find_by_xpath('//*[@id=\"email\"]')[0]\n",
    "search_input.fill(username)\n",
    "search_input = browser.find_by_xpath('//*[@id=\"pass\"]')[0]\n",
    "search_input.fill(password)\n",
    "browser.find_by_xpath('//*[@id=\"loginbutton\"]').first.click()\n",
    "\n",
    "try:\n",
    "    search_input = browser.find_by_xpath('//*[@id=\"approvals_code\"]')[0]\n",
    "    phonecheck = input('phonecheck_code:')\n",
    "    search_input.fill(phonecheck)\n",
    "    browser.find_by_xpath('//*[@id=\"checkpointSubmitButton\"]').first.click()\n",
    "    browser.find_by_xpath('//*[@id=\"u_0_0\"]/div/div[2]/ul/li[2]/div/label/strong').first.click()\n",
    "    browser.find_by_xpath('//*[@id=\"checkpointSubmitButton\"]').first.click()\n",
    "except splinter.exceptions.ElementDoesNotExist:\n",
    "    pass"
   ]
  },
  {
   "cell_type": "code",
   "execution_count": 16,
   "metadata": {
    "collapsed": true
   },
   "outputs": [],
   "source": [
    "def get_friends_list(url_input):#連線到某個人讀取他的朋友清單\n",
    "    import time \n",
    "    from bs4 import BeautifulSoup\n",
    "    import re\n",
    "    import requests\n",
    "    success = 0 #checking connection is succeeded or not\n",
    "    count = 0 #define how many times we have tried to connect\n",
    "    times_of_trying = 3 #the limited number we want to try\n",
    "    friends_list = []\n",
    "    while (success == 0 and count<times_of_trying) : #if not success to connect try few times\n",
    "        try:\n",
    "            url = url_input + '/friends' #go to the friends page\n",
    "            browser.visit(url)\n",
    "            \n",
    "            soup = BeautifulSoup(browser.html, 'lxml') #find how many friends the user has\n",
    "            numbers_of_friends = soup.select('#pagelet_timeline_medley_friends > div._3cz > div.clearfix._1_ca')\n",
    "            match = re.match('All Friends([0-9,]+).*',numbers_of_friends[0].text)\n",
    "            \n",
    "            a = int((int(match.group(1).replace(',','')) - 20)/6)+5 #from the amount of friends calculate scrolling times\n",
    "\n",
    "            while a:\n",
    "                browser.execute_script('window.scrollTo(0, document.body.scrollHeight)')\n",
    "                time.sleep(0.2)\n",
    "                a -= 1\n",
    "                \n",
    "            success = 1 #if succeeded define success connection\n",
    "            \n",
    "            soup = BeautifulSoup(browser.html, 'lxml') \n",
    "            section_friends = soup.select('#collection_wrapper_2356318349')[0].select('div')[0].select('ul')\n",
    "\n",
    "            aa = 0 #just a number to show sequence of friend\n",
    "            for friends in section_friends: #find the friends list and save it to friend_list\n",
    "                for friend in friends.select('li'):\n",
    "                    if len(friend.select('div > div > div > div > div > div > a')) != 0:\n",
    "                        if friend.select('div > div > div > div > div > div > a')[0].text == 'FriendFriends':\n",
    "                            friends_list.append([friend.select('div > div > div > div > div > div > a')[1].text,\n",
    "                                                friend.select('div > div > div > div > div > div > a')[1]['href']])\n",
    "#                             print(aa,friend.select('div > div > div > div > div > div > a')[1].text)\n",
    "#                             print(friend.select('div > div > div > div > div > div > a')[1]['href'])\n",
    "                        else:\n",
    "                            friends_list.append([friend.select('div > div > div > div > div > div > a')[0].text,\n",
    "                                                friend.select('div > div > div > div > div > div > a')[0]['href']])\n",
    "#                             print(aa,friend.select('div > div > div > div > div > div > a')[0].text)\n",
    "#                             print(friend.select('div > div > div > div > div > div > a')[0]['href'])\n",
    "                aa+=1\n",
    "        except requests.ConnectionError:\n",
    "            success = 1    \n",
    "        except AttributeError: #if user does not permit us to see his firends try few times\n",
    "#             print('try',count,'times')\n",
    "            count += 1\n",
    "            if count==times_of_trying:\n",
    "#                 print('already tried')\n",
    "                pass\n",
    "    return friends_list"
   ]
  },
  {
   "cell_type": "code",
   "execution_count": 7,
   "metadata": {
    "collapsed": true
   },
   "outputs": [],
   "source": [
    "def get_likes_list(url_input,browser):#連線到某個人抓他按讚的粉絲頁\n",
    "    import time \n",
    "    from bs4 import BeautifulSoup\n",
    "    import re\n",
    "    import requests\n",
    "\n",
    "    success = 0  #checking connection is succeeded or not\n",
    "    count = 0  #define how many times we have tried to connect\n",
    "    likes_list = []\n",
    "    \n",
    "    while (success == 0 and count<4) :\n",
    "        try:\n",
    "            browser.visit(url_input) #go user's page and find his likes\n",
    "            browser.find_by_text('More').first.click()\n",
    "            browser.find_by_text('Likes').first.click()\n",
    "            \n",
    "            soup = BeautifulSoup(browser.html, 'lxml') #find how many likes the user has\n",
    "            likes = soup.select('#pagelet_timeline_medley_likes > div._3cz > div.clearfix._1_ca > div._3dc.lfloat._ohe._5brz > a')[0].text.split()[1]\n",
    "            numbers_of_likes = ''.join(re.findall('[\\d]+',likes))\n",
    "#             print(numbers_of_likes)\n",
    "            a = int((int(numbers_of_likes.replace(',','')) - 20)/6)+10 #from the amount of likes calculate scrolling times\n",
    "            while a:\n",
    "                browser.execute_script('window.scrollTo(0, document.body.scrollHeight)')\n",
    "                time.sleep(0.2)\n",
    "                a -= 1\n",
    "            success = 1\n",
    "            \n",
    "            soup = BeautifulSoup(browser.html, 'lxml') #find the likes list and save it to likes_list\n",
    "            chose_link = 2 #some regular pattern that what we wand is at the second part of each block\n",
    "            for link in soup.select('#collection_wrapper_2409997254')[0].select('div')[0].select('a'):\n",
    "                if chose_link%3 == 0: #we get the second of each block\n",
    "                    likes_list.append([link.text,link['href']])\n",
    "#                     print(link.text)\n",
    "#                     print(link['href'])\n",
    "                chose_link += 1\n",
    "            # soup.select('#collection_wrapper_2409997254')[0].select('div')[0].select('a')[1].text\n",
    "        except splinter.exceptions.ElementDoesNotExist:\n",
    "            print(url,'\\n','user do not permit likes reading','\\n','or wrong url')\n",
    "            success = 1\n",
    "        except Exception as ee:\n",
    "            print(ee)\n",
    "            count += 1\n",
    "            \n",
    "    return likes_list"
   ]
  },
  {
   "cell_type": "code",
   "execution_count": 135,
   "metadata": {},
   "outputs": [
    {
     "name": "stdout",
     "output_type": "stream",
     "text": [
      "https://www.facebook.com/kicokico26 \n",
      " user do not apply likes reading \n",
      " or wrong url\n",
      "https://www.facebook.com/george.kao2 \n",
      " user do not apply likes reading \n",
      " or wrong url\n",
      "https://www.facebook.com/etina80610 \n",
      " user do not apply likes reading \n",
      " or wrong url\n",
      "https://www.facebook.com/yushihting \n",
      " user do not apply likes reading \n",
      " or wrong url\n",
      "https://www.facebook.com/kaiwei.tseng.9028 \n",
      " user do not apply likes reading \n",
      " or wrong url\n",
      "https://www.facebook.com/profile.php?id=100000172058437&fref=pb&hc_location=friends_tab \n",
      " user do not apply likes reading \n",
      " or wrong url\n",
      "https://www.facebook.com/pierce.lan \n",
      " user do not apply likes reading \n",
      " or wrong url\n",
      "https://www.facebook.com/lewis.lin.7399 \n",
      " user do not apply likes reading \n",
      " or wrong url\n",
      "https://www.facebook.com/jung.chen.5074 \n",
      " user do not apply likes reading \n",
      " or wrong url\n"
     ]
    },
    {
     "ename": "KeyboardInterrupt",
     "evalue": "",
     "output_type": "error",
     "traceback": [
      "\u001b[0;31m---------------------------------------------------------------------------\u001b[0m",
      "\u001b[0;31mKeyboardInterrupt\u001b[0m                         Traceback (most recent call last)",
      "\u001b[0;32m<ipython-input-135-2754dd6e6bba>\u001b[0m in \u001b[0;36m<module>\u001b[0;34m()\u001b[0m\n\u001b[1;32m      9\u001b[0m \u001b[0;32mfor\u001b[0m \u001b[0melement\u001b[0m \u001b[0;32min\u001b[0m \u001b[0mones_friends_list\u001b[0m\u001b[0;34m[\u001b[0m\u001b[0;36m1\u001b[0m\u001b[0;34m]\u001b[0m\u001b[0;34m:\u001b[0m\u001b[0;34m\u001b[0m\u001b[0m\n\u001b[1;32m     10\u001b[0m     \u001b[0murl\u001b[0m \u001b[0;34m=\u001b[0m \u001b[0melement\u001b[0m\u001b[0;34m[\u001b[0m\u001b[0;36m1\u001b[0m\u001b[0;34m]\u001b[0m\u001b[0;34m.\u001b[0m\u001b[0mreplace\u001b[0m\u001b[0;34m(\u001b[0m\u001b[0;34m'?fref=pb&hc_location=friends_tab'\u001b[0m\u001b[0;34m,\u001b[0m\u001b[0;34m''\u001b[0m\u001b[0;34m)\u001b[0m\u001b[0;34m\u001b[0m\u001b[0m\n\u001b[0;32m---> 11\u001b[0;31m     \u001b[0mones_likes_list\u001b[0m \u001b[0;34m=\u001b[0m \u001b[0;34m[\u001b[0m\u001b[0murl\u001b[0m\u001b[0;34m,\u001b[0m\u001b[0mget_likes_list\u001b[0m\u001b[0;34m(\u001b[0m\u001b[0murl\u001b[0m\u001b[0;34m)\u001b[0m\u001b[0;34m]\u001b[0m\u001b[0;34m\u001b[0m\u001b[0m\n\u001b[0m\u001b[1;32m     12\u001b[0m     \u001b[0;32mwith\u001b[0m \u001b[0mopen\u001b[0m\u001b[0;34m(\u001b[0m\u001b[0;34m'./data/facebook_likes.csv'\u001b[0m\u001b[0;34m,\u001b[0m \u001b[0;34m'a+'\u001b[0m\u001b[0;34m)\u001b[0m \u001b[0;32mas\u001b[0m \u001b[0mmyfile\u001b[0m\u001b[0;34m:\u001b[0m\u001b[0;34m\u001b[0m\u001b[0m\n\u001b[1;32m     13\u001b[0m         \u001b[0mwr\u001b[0m \u001b[0;34m=\u001b[0m \u001b[0mcsv\u001b[0m\u001b[0;34m.\u001b[0m\u001b[0mwriter\u001b[0m\u001b[0;34m(\u001b[0m\u001b[0mmyfile\u001b[0m\u001b[0;34m,\u001b[0m \u001b[0mquoting\u001b[0m\u001b[0;34m=\u001b[0m\u001b[0mcsv\u001b[0m\u001b[0;34m.\u001b[0m\u001b[0mQUOTE_ALL\u001b[0m\u001b[0;34m)\u001b[0m\u001b[0;34m\u001b[0m\u001b[0m\n",
      "\u001b[0;32m<ipython-input-123-d5abd34dc45d>\u001b[0m in \u001b[0;36mget_likes_list\u001b[0;34m(url_input)\u001b[0m\n\u001b[1;32m     22\u001b[0m             \u001b[0;32mwhile\u001b[0m \u001b[0ma\u001b[0m\u001b[0;34m:\u001b[0m\u001b[0;34m\u001b[0m\u001b[0m\n\u001b[1;32m     23\u001b[0m                 \u001b[0mbrowser\u001b[0m\u001b[0;34m.\u001b[0m\u001b[0mexecute_script\u001b[0m\u001b[0;34m(\u001b[0m\u001b[0;34m'window.scrollTo(0, document.body.scrollHeight)'\u001b[0m\u001b[0;34m)\u001b[0m\u001b[0;34m\u001b[0m\u001b[0m\n\u001b[0;32m---> 24\u001b[0;31m                 \u001b[0mtime\u001b[0m\u001b[0;34m.\u001b[0m\u001b[0msleep\u001b[0m\u001b[0;34m(\u001b[0m\u001b[0;36m0.2\u001b[0m\u001b[0;34m)\u001b[0m\u001b[0;34m\u001b[0m\u001b[0m\n\u001b[0m\u001b[1;32m     25\u001b[0m                 \u001b[0ma\u001b[0m \u001b[0;34m-=\u001b[0m \u001b[0;36m1\u001b[0m\u001b[0;34m\u001b[0m\u001b[0m\n\u001b[1;32m     26\u001b[0m             \u001b[0msuccess\u001b[0m \u001b[0;34m=\u001b[0m \u001b[0;36m1\u001b[0m\u001b[0;34m\u001b[0m\u001b[0m\n",
      "\u001b[0;31mKeyboardInterrupt\u001b[0m: "
     ]
    }
   ],
   "source": [
    "import csv\n",
    "url = 'https://www.facebook.com/v78203' #set the starting user\n",
    "crawling_level = 0\n",
    "ones_likes_list = [url,get_likes_list(url)]\n",
    "ones_friends_list_firstlevel = [url,get_friends_list(url)]\n",
    "with open('./data/facebook_likes.csv', 'a+') as myfile:\n",
    "    wr = csv.writer(myfile, quoting=csv.QUOTE_ALL)\n",
    "    wr.writerow(ones_likes_list)\n",
    "for element in ones_friends_list_firstlevel[1]:\n",
    "    url = element[1].replace('?fref=pb&hc_location=friends_tab','')\n",
    "    ones_likes_list = [url,get_likes_list(url)]\n",
    "    with open('./data/facebook_likes.csv', 'a+') as myfile:\n",
    "        wr = csv.writer(myfile, quoting=csv.QUOTE_ALL)\n",
    "        wr.writerow(ones_likes_list)"
   ]
  },
  {
   "cell_type": "code",
   "execution_count": 132,
   "metadata": {},
   "outputs": [
    {
     "name": "stdout",
     "output_type": "stream",
     "text": [
      "https://www.facebook.com/jex.lee.9\n",
      "https://www.facebook.com/jex.lee.9?fref=pb&hc_location=friends_tab\n",
      "https://www.facebook.com/yhnjum?fref=pb&hc_location=friends_tab\n"
     ]
    }
   ],
   "source": [
    "print(ones_friends_list[1][0][1].replace('?fref=pb&hc_location=friends_tab',''))\n",
    "print(ones_friends_list[1][0][1])\n",
    "print(ones_friends_list[1][1][1])"
   ]
  }
 ],
 "metadata": {
  "kernelspec": {
   "display_name": "Python 3",
   "language": "python",
   "name": "python3"
  },
  "language_info": {
   "codemirror_mode": {
    "name": "ipython",
    "version": 3
   },
   "file_extension": ".py",
   "mimetype": "text/x-python",
   "name": "python",
   "nbconvert_exporter": "python",
   "pygments_lexer": "ipython3",
   "version": "3.6.1"
  }
 },
 "nbformat": 4,
 "nbformat_minor": 2
}
